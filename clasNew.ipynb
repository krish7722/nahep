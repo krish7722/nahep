{
 "cells": [
  {
   "cell_type": "code",
   "execution_count": 13,
   "id": "7b63e81d",
   "metadata": {},
   "outputs": [],
   "source": [
    "import json\n",
    "import numpy as np\n",
    "import pandas as pd\n",
    "import plotly.express as px\n",
    "\n",
    "import plotly.io as pio\n",
    "pio.renderers.default = 'browser'\n",
    "\n",
    "import geopandas as gpd\n",
    "import matplotlib.pyplot as plt\n",
    "import pathlib\n",
    "\n",
    "f = pathlib.Path () / 'rain_polyo.json'\n",
    "assert f.exists ()\n",
    "gdf = gpd.read_file(f)\n",
    "\n",
    "df = pd.read_csv(\"calcifiy_dat.csv\")\n",
    "\n",
    "fig = px.choropleth(\n",
    "    df,\n",
    "    locations=df['ID'],\n",
    "    geojson=gdf,\n",
    "    color=\"COUNT_DD\",\n",
    "    hover_name='Count_LD_50K',\n",
    "    hover_data=['Count_rain','DD','GRIDCODE','COUNT_DD','Count_LD_50K','Count_rain','Rainfall_mm'],\n",
    "    title='Rain info',    \n",
    ")\n",
    "fig.update_geos(fitbounds=\"locations\", visible=False)\n",
    "fig.show();"
   ]
  }
 ],
 "metadata": {
  "kernelspec": {
   "display_name": "Python 3 (ipykernel)",
   "language": "python",
   "name": "python3"
  },
  "language_info": {
   "codemirror_mode": {
    "name": "ipython",
    "version": 3
   },
   "file_extension": ".py",
   "mimetype": "text/x-python",
   "name": "python",
   "nbconvert_exporter": "python",
   "pygments_lexer": "ipython3",
   "version": "3.9.13"
  }
 },
 "nbformat": 4,
 "nbformat_minor": 5
}
